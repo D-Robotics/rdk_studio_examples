{
 "cells": [
  {
   "cell_type": "code",
   "execution_count": 1,
   "id": "23d7072d-c35f-4d4e-99b2-735c9ac554f4",
   "metadata": {},
   "outputs": [
    {
     "data": {
      "application/vnd.jupyter.widget-view+json": {
       "model_id": "9556e477b29a4257a64fc090745ab5a7",
       "version_major": 2,
       "version_minor": 0
      },
      "text/plain": [
       "Image(value=b'', format='jpeg', height='300', width='400')"
      ]
     },
     "metadata": {},
     "output_type": "display_data"
    },
    {
     "data": {
      "application/vnd.jupyter.widget-view+json": {
       "model_id": "3a2005277c0e45eea84f0f3d72545179",
       "version_major": 2,
       "version_minor": 0
      },
      "text/plain": [
       "Button(description='采集图像', style=ButtonStyle())"
      ]
     },
     "metadata": {},
     "output_type": "display_data"
    },
    {
     "data": {
      "application/vnd.jupyter.widget-view+json": {
       "model_id": "2ac9d0a3653a44af91c2f5467e6f1077",
       "version_major": 2,
       "version_minor": 0
      },
      "text/plain": [
       "Image(value=b'', format='jpeg', height='300', width='400')"
      ]
     },
     "metadata": {},
     "output_type": "display_data"
    },
    {
     "data": {
      "application/vnd.jupyter.widget-view+json": {
       "model_id": "9ea367a1b20c40039b774350804fcccc",
       "version_major": 2,
       "version_minor": 0
      },
      "text/plain": [
       "Button(description='你看到什么', style=ButtonStyle())"
      ]
     },
     "metadata": {},
     "output_type": "display_data"
    },
    {
     "data": {
      "application/vnd.jupyter.widget-view+json": {
       "model_id": "787603431e4146e69c0462000801ae61",
       "version_major": 2,
       "version_minor": 0
      },
      "text/plain": [
       "HTML(value='\\n    请你根据你的理解，基于python只实现编码plan()函数，将桌面上所有的物体移动到目标位置，输出代码和描述\\n    以下是你能够直接调用的API:<br>\\n    1. <b>…"
      ]
     },
     "metadata": {},
     "output_type": "display_data"
    },
    {
     "data": {
      "application/vnd.jupyter.widget-view+json": {
       "model_id": "6e10eb491fbb419fa23cb35e92e8f906",
       "version_major": 2,
       "version_minor": 0
      },
      "text/plain": [
       "Button(description='你能做什么', style=ButtonStyle())"
      ]
     },
     "metadata": {},
     "output_type": "display_data"
    },
    {
     "data": {
      "application/vnd.jupyter.widget-view+json": {
       "model_id": "0b76a335b3824c58b937de91f41763ab",
       "version_major": 2,
       "version_minor": 0
      },
      "text/plain": [
       "Output()"
      ]
     },
     "metadata": {},
     "output_type": "display_data"
    },
    {
     "data": {
      "text/plain": [
       "<function __main__.stop_camera()>"
      ]
     },
     "execution_count": 1,
     "metadata": {},
     "output_type": "execute_result"
    },
    {
     "name": "stdout",
     "output_type": "stream",
     "text": [
      "question: 请输出桌上所有物体\n",
      "Answer: 桌上有一台黑色的电脑、一个蓝色的鼠标、一个白色的键盘、一根黑色的网线、一个棕色的木质桌子。\n",
      "question: \n",
      "    你必须如下所有API:\n",
      "    1. get_location_by_name(name): 根据输入的name获取其对应物体所在的xyz位置，用来找到对应物体的位置\n",
      "    2. move_tool(xyz): 将末端夹爪移动到xyz位置\n",
      "    3. grasp(): 末端夹爪执行抓取，能够抓住当前机器人夹爪附近的物体\n",
      "    4. ungrasp(): 松开末端夹爪抓取，所夹住的物体会落在当前位置\n",
      "    5. get_names_on_table(): 返回类型List，返回所有在桌面上物体的名字。\n",
      "    6. get_boxposition(): 返回可以暂时存放物体的box的xyz位置\n",
      "    请你根据你的理解，基于python实现简短的plan()函数，将你看到的所有物体移动到目标位置，输出英文代码不要描述，必须简短\n",
      "\n",
      "Answer: ```python\n",
      "import time\n",
      "\n",
      "# Get all objects on the table\n",
      "table_objects = get_names_on_table()\n",
      "print(\"Objects on the table: \", table_objects)\n",
      "\n",
      "# Move all objects to a target location\n",
      "target_location = [0, 0, 0]\n",
      "for obj in table_objects:\n",
      "    location = get_location_by_name(obj)\n",
      "    if location is not None:\n",
      "        move_tool(location)\n",
      "        move_tool(target_location)\n",
      "        print(f\"Moving {obj} to {target_location}\")\n",
      "        time.sleep(1)\n",
      "    else:\n",
      "        print(f\"Object {obj} is not on the table\")\n",
      "```\n",
      "\n",
      "这个计划函数首先获取桌子上的所有物体，然后将所有物体移动到目标位置。如果物体不在桌子上，它将打印一条消息。\n"
     ]
    }
   ],
   "source": [
    "import cv2\n",
    "from PIL import Image\n",
    "from io import BytesIO\n",
    "import ipywidgets as widgets\n",
    "from IPython.display import display\n",
    "import threading\n",
    "import time\n",
    "import os\n",
    "\n",
    "from rdk_gateway_ai.rdk_gateway_ai import coding_show_infer\n",
    "\n",
    "# 创建一个摄像头捕获对象\n",
    "cap = cv2.VideoCapture(0)\n",
    "\n",
    "# 创建图像显示区域和按钮\n",
    "image_widget = widgets.Image(format='jpeg', width=400, height=300)\n",
    "captured_image_widget = widgets.Image(format='jpeg', width=400, height=300)\n",
    "button_capture = widgets.Button(description=\"采集图像\")\n",
    "button_see = widgets.Button(description=\"你看到什么\")\n",
    "html_text = \"\"\"\n",
    "    请你根据你的理解，基于python只实现编码plan()函数，将桌面上所有的物体移动到目标位置，输出代码和描述\n",
    "    以下是你能够直接调用的API:<br>\n",
    "    1. <b>get_location_by_name(name)</b>: 根据输入的name获取其对应物体所在的xyz位置，用来找到对应物体的位置<br>\n",
    "    2. <b>move_tool(xyz)</b>: 将末端夹爪移动到xyz位置<br>\n",
    "    3. <b>grasp()</b>: 末端夹爪执行抓取，能够抓住当前机器人夹爪附近的物体<br>\n",
    "    4. <b>ungrasp()</b>: 松开末端夹爪抓取，所夹住的物体会落在当前位置<br>\n",
    "    5. <b>get_names_on_table()</b>: 返回类型List，返回所有在桌面上物体的名字。<br>\n",
    "    6. <b>get_boxposition()</b>: 返回可以暂时存放物体的box的xyz位置\n",
    "\"\"\"\n",
    "normal_text = \"\"\"\n",
    "    你必须如下所有API:\n",
    "    1. get_location_by_name(name): 根据输入的name获取其对应物体所在的xyz位置，用来找到对应物体的位置\n",
    "    2. move_tool(xyz): 将末端夹爪移动到xyz位置\n",
    "    3. grasp(): 末端夹爪执行抓取，能够抓住当前机器人夹爪附近的物体\n",
    "    4. ungrasp(): 松开末端夹爪抓取，所夹住的物体会落在当前位置\n",
    "    5. get_names_on_table(): 返回类型List，返回所有在桌面上物体的名字。\n",
    "    6. get_boxposition(): 返回可以暂时存放物体的box的xyz位置\n",
    "    请你根据你的理解，基于python实现简短的plan()函数，将你看到的所有物体移动到目标位置，输出英文代码不要描述，必须简短\n",
    "\"\"\"\n",
    "text_block = widgets.HTML(html_text)\n",
    "button_do = widgets.Button(description=\"你能做什么\")\n",
    "output_text = widgets.Output()\n",
    "\n",
    "# 显示控件\n",
    "display(image_widget, button_capture, captured_image_widget, button_see, text_block, button_do, output_text)\n",
    "\n",
    "# 全局变量，用于存储采集的图像\n",
    "captured_image = None\n",
    "running = True\n",
    "\n",
    "# 实时更新摄像头图像的回调函数\n",
    "def update_camera_image():\n",
    "    while running:\n",
    "        ret, frame = cap.read()\n",
    "        if ret:\n",
    "            frame_rgb = cv2.cvtColor(frame, cv2.COLOR_BGR2RGB)\n",
    "            pil_img = Image.fromarray(frame_rgb)\n",
    "            buffer = BytesIO()\n",
    "            pil_img.save(buffer, format=\"JPEG\")\n",
    "            image_widget.value = buffer.getvalue()\n",
    "        time.sleep(0.1)  # 控制帧率\n",
    "\n",
    "# 按钮点击事件，采集当前图像并保存\n",
    "def capture_image(b):\n",
    "    global captured_image\n",
    "    ret, frame = cap.read()\n",
    "    if ret:\n",
    "        frame_rgb = cv2.cvtColor(frame, cv2.COLOR_BGR2RGB)\n",
    "        captured_image = Image.fromarray(frame_rgb)\n",
    "\n",
    "        # 将图片显示在 captured_image_widget 中\n",
    "        buffer = BytesIO()\n",
    "        captured_image.save(buffer, format=\"JPEG\")\n",
    "        captured_image_widget.value = buffer.getvalue()\n",
    "\n",
    "        # 保存采集的图像到本地\n",
    "        save_directory = os.path.join(os.path.expanduser(\"~\"), \"Pictures\")\n",
    "        if not os.path.exists(save_directory):\n",
    "            os.makedirs(save_directory)  # 创建目录\n",
    "        image_path = os.path.join(save_directory, \"captured_image.jpg\")\n",
    "        captured_image.save(image_path)\n",
    "        print(f\"图像已保存到: {image_path}\")\n",
    "\n",
    "# 设置按钮点击事件\n",
    "button_capture.on_click(capture_image)\n",
    "\n",
    "# 定义异步推理的函数\n",
    "def infer_async(text, button_description):\n",
    "    result = coding_show_infer(text, os.path.join(os.path.join(os.path.expanduser(\"~\"), \"Pictures\"), \"captured_image.jpg\"))\n",
    "    #result = coding_show_infer(text, \"./Pictures/1.jpg\")\n",
    "    with output_text:\n",
    "        output_text.clear_output()\n",
    "        # print(f\"{button_description}: {result}\")\n",
    "\n",
    "# 定义“what you see in the picture”的推理事件\n",
    "def infer_see(b):\n",
    "    threading.Thread(target=infer_async, args=(\"请输出桌上所有物体\", \"Answer:\")).start()\n",
    "\n",
    "# 定义“what you can do in this picture”的推理事件\n",
    "def infer_do(b):\n",
    "    threading.Thread(target=infer_async, args=(normal_text, \"What you can do\")).start()\n",
    "\n",
    "# 为按钮分配事件\n",
    "button_see.on_click(infer_see)\n",
    "button_do.on_click(infer_do)\n",
    "\n",
    "# 开启一个线程用于实时更新摄像头图像\n",
    "camera_thread = threading.Thread(target=update_camera_image)\n",
    "camera_thread.start()\n",
    "\n",
    "# 当结束时释放摄像头资源\n",
    "def stop_camera():\n",
    "    global running\n",
    "    running = False\n",
    "    camera_thread.join()\n",
    "    cap.release()\n",
    "\n",
    "# 确保程序结束时摄像头释放\n",
    "import atexit\n",
    "atexit.register(stop_camera)\n"
   ]
  },
  {
   "cell_type": "code",
   "execution_count": null,
   "id": "8163c3cf-6345-48de-af8c-7f5833688fed",
   "metadata": {},
   "outputs": [],
   "source": []
  }
 ],
 "metadata": {
  "kernelspec": {
   "display_name": "Python 3 (ipykernel)",
   "language": "python",
   "name": "python3"
  },
  "language_info": {
   "codemirror_mode": {
    "name": "ipython",
    "version": 3
   },
   "file_extension": ".py",
   "mimetype": "text/x-python",
   "name": "python",
   "nbconvert_exporter": "python",
   "pygments_lexer": "ipython3",
   "version": "3.10.12"
  }
 },
 "nbformat": 4,
 "nbformat_minor": 5
}
