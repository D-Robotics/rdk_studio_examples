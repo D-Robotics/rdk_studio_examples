{
 "cells": [
  {
   "cell_type": "code",
   "execution_count": 1,
   "id": "4a1d165d-2389-41c3-83f3-b26482e562af",
   "metadata": {},
   "outputs": [
    {
     "data": {
      "application/vnd.jupyter.widget-view+json": {
       "model_id": "61e4d10039f24748a7d2743789761353",
       "version_major": 2,
       "version_minor": 0
      },
      "text/plain": [
       "Image(value=b'', format='jpeg', height='300', width='400')"
      ]
     },
     "metadata": {},
     "output_type": "display_data"
    },
    {
     "data": {
      "application/vnd.jupyter.widget-view+json": {
       "model_id": "6a52f9eb5b9d471986dac71922a3ebfc",
       "version_major": 2,
       "version_minor": 0
      },
      "text/plain": [
       "Button(description='采集图像', style=ButtonStyle())"
      ]
     },
     "metadata": {},
     "output_type": "display_data"
    },
    {
     "data": {
      "application/vnd.jupyter.widget-view+json": {
       "model_id": "f839cfe011f54674b7b44fe8979e2184",
       "version_major": 2,
       "version_minor": 0
      },
      "text/plain": [
       "Image(value=b'', format='jpeg', height='300', width='400')"
      ]
     },
     "metadata": {},
     "output_type": "display_data"
    },
    {
     "data": {
      "application/vnd.jupyter.widget-view+json": {
       "model_id": "c8e3df9aec40462e822ca54481619a54",
       "version_major": 2,
       "version_minor": 0
      },
      "text/plain": [
       "Button(description='你看到什么', style=ButtonStyle())"
      ]
     },
     "metadata": {},
     "output_type": "display_data"
    },
    {
     "data": {
      "application/vnd.jupyter.widget-view+json": {
       "model_id": "8d197a117f5242e0bea4daa3e0a960f1",
       "version_major": 2,
       "version_minor": 0
      },
      "text/plain": [
       "HTML(value='\\n        请你根据你的理解，基于python只实现编码plan()函数，将桌面上所有的物体移动到目标位置，输出代码和描述\\n        以下是你能够直接调用的API:<br>\\n  …"
      ]
     },
     "metadata": {},
     "output_type": "display_data"
    },
    {
     "data": {
      "application/vnd.jupyter.widget-view+json": {
       "model_id": "c98db5b586764d87b9da9c66e9ad9ff4",
       "version_major": 2,
       "version_minor": 0
      },
      "text/plain": [
       "Button(description='你能做什么', style=ButtonStyle())"
      ]
     },
     "metadata": {},
     "output_type": "display_data"
    },
    {
     "data": {
      "application/vnd.jupyter.widget-view+json": {
       "model_id": "fcc0fd62455b4aaab095839553cc5b05",
       "version_major": 2,
       "version_minor": 0
      },
      "text/plain": [
       "Output()"
      ]
     },
     "metadata": {},
     "output_type": "display_data"
    },
    {
     "name": "stdout",
     "output_type": "stream",
     "text": [
      "question: 请输出桌上所有物体\n",
      "Answer: 桌上有一个包裹、一支笔和一个剪刀。\n",
      "question: \n",
      "        你必须如下所有API:\n",
      "        1. get_location_by_name(name): 根据输入的name获取其对应物体所在的xyz位置，用来找到对应物体的位置\n",
      "        2. move_tool(xyz): 将末端夹爪移动到xyz位置\n",
      "        3. grasp(): 末端夹爪执行抓取，能够抓住当前机器人夹爪附近的物体\n",
      "        4. ungrasp(): 松开末端夹爪抓取，所夹住的物体会落在当前位置\n",
      "        5. get_names_on_table(): 返回类型List，返回所有在桌面上物体的名字。\n",
      "        6. get_boxposition(): 返回可以暂时存放物体的box的xyz位置\n",
      "        请你根据你的理解，基于python实现简短的plan()函数，将你看到的所有物体移动到目标位置，输出英文代码不要描述，必须简短\n",
      "    \n",
      "Answer: ```python\n",
      "def plan():\n",
      "    table_objects = get_names_on_table()\n",
      "    if table_objects:\n",
      "        table_positions = get_positions_of_table_objects(table_objects)\n",
      "        for obj, pos in table_positions:\n",
      "            if obj == 'package':\n",
      "                move_tool(pos)\n",
      "            elif obj == 'pen':\n",
      "                move_tool(pos)\n",
      "            elif obj == 'scissor':\n",
      "                move_tool(pos)\n",
      "            else:\n",
      "                print(f'Unknown object: {obj}')\n",
      "            grasp()\n",
      "            ungrasp()\n",
      "    else:\n",
      "        print('No objects on the table.')\n",
      "```\n",
      "\n",
      "这个函数首先获取桌面上的所有物体，然后获取每个物体的位置，然后将每个物体移动到目标位置，然后执行抓取和松开操作，最后如果桌面上没有物体，就输出相应的信息。\n"
     ]
    }
   ],
   "source": [
    "from cam_app import run_camera_app\n",
    "\n",
    "# Call the function\n",
    "run_camera_app(capture_img_path=\"./demopic.png\")"
   ]
  },
  {
   "cell_type": "code",
   "execution_count": null,
   "id": "faadfaad-54ab-46db-9038-a8bd994e9a4b",
   "metadata": {},
   "outputs": [],
   "source": []
  }
 ],
 "metadata": {
  "kernelspec": {
   "display_name": "Python 3 (ipykernel)",
   "language": "python",
   "name": "python3"
  },
  "language_info": {
   "codemirror_mode": {
    "name": "ipython",
    "version": 3
   },
   "file_extension": ".py",
   "mimetype": "text/x-python",
   "name": "python",
   "nbconvert_exporter": "python",
   "pygments_lexer": "ipython3",
   "version": "3.10.12"
  }
 },
 "nbformat": 4,
 "nbformat_minor": 5
}
