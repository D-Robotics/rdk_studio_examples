{
 "cells": [
  {
   "cell_type": "code",
   "execution_count": null,
   "id": "faadfaad-54ab-46db-9038-a8bd994e9a4b",
   "metadata": {},
   "outputs": [],
   "source": [
    "from cam_app import run_camera_app\n",
    "\n",
    "# Call the function\n",
    "# run_camera_app(capture_img_path=\"./demopic.png\")\n",
    "run_camera_app()"
   ]
  }
 ],
 "metadata": {
  "kernelspec": {
   "display_name": "Python 3 (ipykernel)",
   "language": "python",
   "name": "python3"
  },
  "language_info": {
   "codemirror_mode": {
    "name": "ipython",
    "version": 3
   },
   "file_extension": ".py",
   "mimetype": "text/x-python",
   "name": "python",
   "nbconvert_exporter": "python",
   "pygments_lexer": "ipython3",
   "version": "3.10.12"
  }
 },
 "nbformat": 4,
 "nbformat_minor": 5
}
