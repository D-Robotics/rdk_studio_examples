{
 "cells": [
  {
   "cell_type": "code",
   "execution_count": 2,
   "metadata": {},
   "outputs": [],
   "source": [
    "from model_zoo import run_inference, run_inference_tf"
   ]
  },
  {
   "cell_type": "code",
   "execution_count": 2,
   "metadata": {},
   "outputs": [
    {
     "name": "stdout",
     "output_type": "stream",
     "text": [
      "The model path is valid and points to a regular file.\n",
      "[BPU_PLAT]BPU Platform Version(1.3.6)!\n",
      "[HBRT] set log level as 0. version = 3.15.49.0\n",
      "[DNN] Runtime version = 1.23.8_(3.15.49 HBRT)\n",
      "[A][DNN][packed_model.cpp:247][Model](2024-09-12,07:51:21.809.674) [HorizonRT] The model builder version = 1.23.5\n",
      "[W][DNN]bpu_model_info.cpp:491][Version](2024-09-12,07:51:21.856.989) Model: googlenet_224x224_nv12. Inconsistency between the hbrt library version 3.15.49.0 and the model build version 3.15.47.0 detected, in order to ensure correct model results, it is recommended to use compilation tools and the BPU SDK from the same OpenExplorer package.\n",
      "Image saved at: output/indigo_bunting.JPEG\n",
      "mobilenetv4 predicted label: indigo bunting, indigo finch, indigo bird, Passerina cyanea, Confidence: 0.9777\n"
     ]
    }
   ],
   "source": [
    "# run googlenet inference\n",
    "googlenet_label, googlenet_confidence = run_inference(\"googlenet\")\n",
    "print(f\"mobilenetv4 predicted label: {googlenet_label}, Confidence: {googlenet_confidence:.4f}\")"
   ]
  },
  {
   "cell_type": "code",
   "execution_count": 3,
   "metadata": {},
   "outputs": [
    {
     "name": "stdout",
     "output_type": "stream",
     "text": [
      "The model path is valid and points to a regular file.\n",
      "[A][DNN][packed_model.cpp:247][Model](2024-09-12,07:51:44.798.623) [HorizonRT] The model builder version = 1.23.5\n",
      "[W][DNN]bpu_model_info.cpp:491][Version](2024-09-12,07:51:44.827.209) Model: mobilenetv1_224x224_nv12. Inconsistency between the hbrt library version 3.15.49.0 and the model build version 3.15.47.0 detected, in order to ensure correct model results, it is recommended to use compilation tools and the BPU SDK from the same OpenExplorer package.\n",
      "Image saved at: output/bulbul.JPEG\n",
      "mobilenetv1 predicted label: bulbul, Confidence: 0.6586\n"
     ]
    }
   ],
   "source": [
    "# run mobilenetv1 inference\n",
    "mobilenetv1_label, mobilenetv1_confidence = run_inference_tf(\"mobilenetv1\")\n",
    "print(f\"mobilenetv1 predicted label: {mobilenetv1_label}, Confidence: {mobilenetv1_confidence:.4f}\")"
   ]
  },
  {
   "cell_type": "code",
   "execution_count": 4,
   "metadata": {},
   "outputs": [
    {
     "name": "stdout",
     "output_type": "stream",
     "text": [
      "The model path is valid and points to a regular file.\n",
      "[A][DNN][packed_model.cpp:247][Model](2024-09-12,07:52:00.373.458) [HorizonRT] The model builder version = 1.23.5\n",
      "[W][DNN]bpu_model_info.cpp:491][Version](2024-09-12,07:52:00.399.799) Model: mobilenetv2_224x224_nv12. Inconsistency between the hbrt library version 3.15.49.0 and the model build version 3.15.47.0 detected, in order to ensure correct model results, it is recommended to use compilation tools and the BPU SDK from the same OpenExplorer package.\n",
      "Image saved at: output/Scottish_deerhound.JPEG\n",
      "mobilenetv2 predicted label: Scottish deerhound, deerhound, Confidence: 0.9133\n"
     ]
    }
   ],
   "source": [
    "# run mobilenetv2 inference\n",
    "mobilenetv2_label, mobilenetv2_confidence = run_inference_tf(\"mobilenetv2\")\n",
    "print(f\"mobilenetv2 predicted label: {mobilenetv2_label}, Confidence: {mobilenetv2_confidence:.4f}\")"
   ]
  },
  {
   "cell_type": "code",
   "execution_count": 5,
   "metadata": {},
   "outputs": [
    {
     "name": "stdout",
     "output_type": "stream",
     "text": [
      "The model path is valid and points to a regular file.\n",
      "[A][DNN][packed_model.cpp:247][Model](2024-09-12,08:01:56.271.875) [HorizonRT] The model builder version = 1.23.8\n",
      "[W][DNN]bpu_model_info.cpp:491][Version](2024-09-12,08:01:56.299.743) Model: MobileNetv4-deploy_224x224_nv12. Inconsistency between the hbrt library version 3.15.49.0 and the model build version 3.15.54.0 detected, in order to ensure correct model results, it is recommended to use compilation tools and the BPU SDK from the same OpenExplorer package.\n",
      "Image saved at: output/great_grey_owl_show.JPEG\n",
      "mobilenetv4 predicted label: great grey owl, great gray owl, Strix nebulosa, Confidence: 0.9732\n"
     ]
    }
   ],
   "source": [
    "# run mobilenetv4 inference\n",
    "mobilenetv4_label, mobilenetv4_confidence = run_inference(\"mobilenetv4\")\n",
    "print(f\"mobilenetv4 predicted label: {mobilenetv4_label}, Confidence: {mobilenetv4_confidence:.4f}\")"
   ]
  },
  {
   "cell_type": "code",
   "execution_count": 6,
   "metadata": {},
   "outputs": [
    {
     "name": "stdout",
     "output_type": "stream",
     "text": [
      "The model path is valid and points to a regular file.\n",
      "[A][DNN][packed_model.cpp:247][Model](2024-09-12,08:04:47.761.28) [HorizonRT] The model builder version = 1.23.8\n",
      "[W][DNN]bpu_model_info.cpp:491][Version](2024-09-12,08:04:47.792.848) Model: MobileOne-deploy_224x224_nv12. Inconsistency between the hbrt library version 3.15.49.0 and the model build version 3.15.54.0 detected, in order to ensure correct model results, it is recommended to use compilation tools and the BPU SDK from the same OpenExplorer package.\n",
      "Image saved at: output/tiger_beetle.JPEG\n",
      "mobileone predicted label: tiger beetle, Confidence: 0.9706\n"
     ]
    }
   ],
   "source": [
    "# run mobileone inference\n",
    "mobileone_label, mobileone_confidence = run_inference(\"mobileone\")\n",
    "print(f\"mobileone predicted label: {mobileone_label}, Confidence: {mobileone_confidence:.4f}\")"
   ]
  },
  {
   "cell_type": "code",
   "execution_count": 3,
   "metadata": {},
   "outputs": [
    {
     "name": "stdout",
     "output_type": "stream",
     "text": [
      "The model path is valid and points to a regular file.\n",
      "[BPU_PLAT]BPU Platform Version(1.3.6)!\n",
      "[HBRT] set log level as 0. version = 3.15.49.0\n",
      "[DNN] Runtime version = 1.23.8_(3.15.49 HBRT)\n",
      "[A][DNN][packed_model.cpp:247][Model](2024-09-12,08:06:27.685.490) [HorizonRT] The model builder version = 1.23.8\n",
      "[W][DNN]bpu_model_info.cpp:491][Version](2024-09-12,08:06:27.720.497) Model: RepGhost_224x224_nv12. Inconsistency between the hbrt library version 3.15.49.0 and the model build version 3.15.54.0 detected, in order to ensure correct model results, it is recommended to use compilation tools and the BPU SDK from the same OpenExplorer package.\n",
      "Image saved at: output/ibex.JPEG\n",
      "repghost predicted label: ibex, Capra ibex, Confidence: 0.9880\n"
     ]
    }
   ],
   "source": [
    "# run repghost inference\n",
    "repghost_label, repghost_confidence = run_inference(\"repghost\")\n",
    "print(f\"repghost predicted label: {repghost_label}, Confidence: {repghost_confidence:.4f}\")"
   ]
  },
  {
   "cell_type": "code",
   "execution_count": 4,
   "metadata": {},
   "outputs": [
    {
     "name": "stdout",
     "output_type": "stream",
     "text": [
      "The model path is valid and points to a regular file.\n",
      "[A][DNN][packed_model.cpp:247][Model](2024-09-12,08:06:50.736.284) [HorizonRT] The model builder version = 1.23.8\n",
      "[W][DNN]bpu_model_info.cpp:491][Version](2024-09-12,08:06:50.808.117) Model: RepVGG-deploy_224x224_nv12. Inconsistency between the hbrt library version 3.15.49.0 and the model build version 3.15.54.0 detected, in order to ensure correct model results, it is recommended to use compilation tools and the BPU SDK from the same OpenExplorer package.\n",
      "Image saved at: output/gooze.JPEG\n",
      "repghost predicted label: goose, Confidence: 0.9867\n"
     ]
    }
   ],
   "source": [
    "# run repvgg inference\n",
    "repvgg_label, repvgg_confidence = run_inference(\"repvgg\")\n",
    "print(f\"repghost predicted label: {repvgg_label}, Confidence: {repvgg_confidence:.4f}\")"
   ]
  },
  {
   "cell_type": "code",
   "execution_count": 5,
   "metadata": {},
   "outputs": [
    {
     "name": "stdout",
     "output_type": "stream",
     "text": [
      "The model path is valid and points to a regular file.\n",
      "[A][DNN][packed_model.cpp:247][Model](2024-09-12,08:07:23.672.969) [HorizonRT] The model builder version = 1.23.8\n",
      "[W][DNN]bpu_model_info.cpp:491][Version](2024-09-12,08:07:23.722.749) Model: RepViT-deploy_224x224_nv12. Inconsistency between the hbrt library version 3.15.49.0 and the model build version 3.15.54.0 detected, in order to ensure correct model results, it is recommended to use compilation tools and the BPU SDK from the same OpenExplorer package.\n",
      "Image saved at: output/yurt.JPEG\n",
      "repvit predicted label: yurt, Confidence: 0.9860\n"
     ]
    }
   ],
   "source": [
    "# run repvit inference\n",
    "repvit_label, repvit_confidence = run_inference(\"repvit\")\n",
    "print(f\"repvit predicted label: {repvit_label}, Confidence: {repvit_confidence:.4f}\")"
   ]
  },
  {
   "cell_type": "code",
   "execution_count": 6,
   "metadata": {},
   "outputs": [
    {
     "name": "stdout",
     "output_type": "stream",
     "text": [
      "The model path is valid and points to a regular file.\n",
      "[A][DNN][packed_model.cpp:247][Model](2024-09-12,08:07:42.989.382) [HorizonRT] The model builder version = 1.23.5\n",
      "[W][DNN]bpu_model_info.cpp:491][Version](2024-09-12,08:07:43.62.593) Model: resnet18_224x224_nv12. Inconsistency between the hbrt library version 3.15.49.0 and the model build version 3.15.47.0 detected, in order to ensure correct model results, it is recommended to use compilation tools and the BPU SDK from the same OpenExplorer package.\n",
      "Image saved at: output/white_wolf.JPEG\n",
      "resnet predicted label: white wolf, Arctic wolf, Canis lupus tundrarum, Confidence: 0.9524\n"
     ]
    }
   ],
   "source": [
    "# run resnet inference\n",
    "resnet_label, resnet_confidence = run_inference_tf(\"resnet\")\n",
    "print(f\"resnet predicted label: {resnet_label}, Confidence: {resnet_confidence:.4f}\")"
   ]
  }
 ],
 "metadata": {
  "kernelspec": {
   "display_name": "usr",
   "language": "python",
   "name": "python3"
  },
  "language_info": {
   "codemirror_mode": {
    "name": "ipython",
    "version": 3
   },
   "file_extension": ".py",
   "mimetype": "text/x-python",
   "name": "python",
   "nbconvert_exporter": "python",
   "pygments_lexer": "ipython3",
   "version": "3.10.12"
  }
 },
 "nbformat": 4,
 "nbformat_minor": 2
}
