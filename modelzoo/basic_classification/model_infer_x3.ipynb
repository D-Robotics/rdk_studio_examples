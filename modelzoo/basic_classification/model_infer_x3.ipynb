{
 "cells": [
  {
   "cell_type": "code",
   "execution_count": 1,
   "metadata": {},
   "outputs": [],
   "source": [
    "from model_zoo_x3 import run_inference, run_inference_tf\n",
    "import matplotlib.pyplot as plt"
   ]
  },
  {
   "cell_type": "code",
   "execution_count": 2,
   "metadata": {},
   "outputs": [
    {
     "name": "stdout",
     "output_type": "stream",
     "text": [
      "The model path is valid and points to a regular file.\n",
      "[BPU_PLAT]BPU Platform Version(1.3.3)!\n",
      "[HBRT] set log level as 0. version = 3.15.25.0\n",
      "[DNN] Runtime version = 1.18.6_(3.15.25 HBRT)\n",
      "[A][DNN][packed_model.cpp:234][Model](2024-09-12,16:19:15.93.804) [HorizonRT] The model builder version = 1.6.8\n",
      "Image saved at: output/indigo_bunting.JPEG\n",
      "mobilenetv4 predicted label: indigo bunting, indigo finch, indigo bird, Passerina cyanea, Confidence: 0.9808\n"
     ]
    }
   ],
   "source": [
    "# run googlenet inference\n",
    "googlenet_label, googlenet_confidence, image = run_inference(\"googlenet\")\n",
    "print(f\"mobilenetv4 predicted label: {googlenet_label}, Confidence: {googlenet_confidence:.4f}\")\n",
    "plt.figure(figsize=(10, 10))\n",
    "plt.imshow(image)\n",
    "plt.axis('off')  # Hide the axis\n",
    "plt.show()"
   ]
  },
  {
   "cell_type": "code",
   "execution_count": 3,
   "metadata": {},
   "outputs": [
    {
     "name": "stdout",
     "output_type": "stream",
     "text": [
      "The model path is valid and points to a regular file.\n",
      "[A][DNN][packed_model.cpp:234][Model](2024-09-12,16:19:24.351.214) [HorizonRT] The model builder version = 1.6.8\n",
      "Image saved at: output/bulbul.JPEG\n",
      "mobilenetv1 predicted label: bulbul, Confidence: 0.6291\n"
     ]
    }
   ],
   "source": [
    "# run mobilenetv1 inference\n",
    "mobilenetv1_label, mobilenetv1_confidence, image = run_inference_tf(\"mobilenetv1\")\n",
    "print(f\"mobilenetv1 predicted label: {mobilenetv1_label}, Confidence: {mobilenetv1_confidence:.4f}\")\n",
    "plt.figure(figsize=(10, 10))\n",
    "plt.imshow(image)\n",
    "plt.axis('off')  # Hide the axis\n",
    "plt.show()"
   ]
  },
  {
   "cell_type": "code",
   "execution_count": 4,
   "metadata": {},
   "outputs": [
    {
     "name": "stdout",
     "output_type": "stream",
     "text": [
      "The model path is valid and points to a regular file.\n",
      "[A][DNN][packed_model.cpp:234][Model](2024-09-12,16:19:31.911.404) [HorizonRT] The model builder version = 1.6.8\n",
      "Image saved at: output/Scottish_deerhound.JPEG\n",
      "mobilenetv2 predicted label: Scottish deerhound, deerhound, Confidence: 0.9210\n"
     ]
    }
   ],
   "source": [
    "# run mobilenetv2 inference\n",
    "mobilenetv2_label, mobilenetv2_confidence, image = run_inference_tf(\"mobilenetv2\")\n",
    "print(f\"mobilenetv2 predicted label: {mobilenetv2_label}, Confidence: {mobilenetv2_confidence:.4f}\")\n",
    "plt.figure(figsize=(10, 10))\n",
    "plt.imshow(image)\n",
    "plt.axis('off')  # Hide the axis\n",
    "plt.show()"
   ]
  },
  {
   "cell_type": "code",
   "execution_count": 5,
   "metadata": {},
   "outputs": [
    {
     "name": "stdout",
     "output_type": "stream",
     "text": [
      "The model path is valid and points to a regular file.\n",
      "[A][DNN][packed_model.cpp:234][Model](2024-09-12,16:19:57.329.943) [HorizonRT] The model builder version = 1.23.8\n",
      "Image saved at: output/great_grey_owl_show.JPEG\n",
      "mobilenetv4 predicted label: great grey owl, great gray owl, Strix nebulosa, Confidence: 0.9762\n"
     ]
    }
   ],
   "source": [
    "# run mobilenetv4 inference\n",
    "mobilenetv4_label, mobilenetv4_confidence, image = run_inference(\"mobilenetv4\")\n",
    "print(f\"mobilenetv4 predicted label: {mobilenetv4_label}, Confidence: {mobilenetv4_confidence:.4f}\")\n",
    "plt.figure(figsize=(10, 10))\n",
    "plt.imshow(image)\n",
    "plt.axis('off')  # Hide the axis\n",
    "plt.show()"
   ]
  },
  {
   "cell_type": "code",
   "execution_count": 6,
   "metadata": {},
   "outputs": [
    {
     "name": "stdout",
     "output_type": "stream",
     "text": [
      "The model path is valid and points to a regular file.\n",
      "[A][DNN][packed_model.cpp:234][Model](2024-09-12,16:20:12.110.200) [HorizonRT] The model builder version = 1.23.8\n",
      "Image saved at: output/tiger_beetle.JPEG\n",
      "mobileone predicted label: tiger beetle, Confidence: 0.9716\n"
     ]
    }
   ],
   "source": [
    "# run mobileone inference\n",
    "mobileone_label, mobileone_confidence, image = run_inference(\"mobileone\")\n",
    "print(f\"mobileone predicted label: {mobileone_label}, Confidence: {mobileone_confidence:.4f}\")\n",
    "plt.figure(figsize=(10, 10))\n",
    "plt.imshow(image)\n",
    "plt.axis('off')  # Hide the axis\n",
    "plt.show()"
   ]
  },
  {
   "cell_type": "code",
   "execution_count": 7,
   "metadata": {},
   "outputs": [
    {
     "name": "stdout",
     "output_type": "stream",
     "text": [
      "The model path is valid and points to a regular file.\n",
      "[A][DNN][packed_model.cpp:234][Model](2024-09-12,16:20:20.445.973) [HorizonRT] The model builder version = 1.23.8\n",
      "Image saved at: output/ibex.JPEG\n",
      "repghost predicted label: ibex, Capra ibex, Confidence: 0.9872\n"
     ]
    }
   ],
   "source": [
    "# run repghost inference\n",
    "repghost_label, repghost_confidence, image = run_inference(\"repghost\")\n",
    "print(f\"repghost predicted label: {repghost_label}, Confidence: {repghost_confidence:.4f}\")\n",
    "plt.figure(figsize=(10, 10))\n",
    "plt.imshow(image)\n",
    "plt.axis('off')  # Hide the axis\n",
    "plt.show()"
   ]
  },
  {
   "cell_type": "code",
   "execution_count": 8,
   "metadata": {},
   "outputs": [
    {
     "name": "stdout",
     "output_type": "stream",
     "text": [
      "The model path is valid and points to a regular file.\n",
      "[A][DNN][packed_model.cpp:234][Model](2024-09-12,16:20:32.103.844) [HorizonRT] The model builder version = 1.23.8\n",
      "Image saved at: output/gooze.JPEG\n",
      "repghost predicted label: goose, Confidence: 0.9891\n"
     ]
    }
   ],
   "source": [
    "# run repvgg inference\n",
    "repvgg_label, repvgg_confidence, image = run_inference(\"repvgg\")\n",
    "print(f\"repghost predicted label: {repvgg_label}, Confidence: {repvgg_confidence:.4f}\")\n",
    "plt.figure(figsize=(10, 10))\n",
    "plt.imshow(image)\n",
    "plt.axis('off')  # Hide the axis\n",
    "plt.show()"
   ]
  },
  {
   "cell_type": "code",
   "execution_count": 9,
   "metadata": {},
   "outputs": [
    {
     "name": "stdout",
     "output_type": "stream",
     "text": [
      "The model path is valid and points to a regular file.\n",
      "[A][DNN][packed_model.cpp:234][Model](2024-09-12,16:20:39.135.914) [HorizonRT] The model builder version = 1.23.8\n",
      "Image saved at: output/yurt.JPEG\n",
      "repvit predicted label: yurt, Confidence: 0.9914\n"
     ]
    }
   ],
   "source": [
    "# run repvit inference\n",
    "repvit_label, repvit_confidence, image = run_inference(\"repvit\")\n",
    "print(f\"repvit predicted label: {repvit_label}, Confidence: {repvit_confidence:.4f}\")\n",
    "plt.figure(figsize=(10, 10))\n",
    "plt.imshow(image)\n",
    "plt.axis('off')  # Hide the axis\n",
    "plt.show()"
   ]
  },
  {
   "cell_type": "code",
   "execution_count": 10,
   "metadata": {},
   "outputs": [
    {
     "name": "stdout",
     "output_type": "stream",
     "text": [
      "The model path is valid and points to a regular file.\n",
      "[A][DNN][packed_model.cpp:234][Model](2024-09-12,16:20:42.896.83) [HorizonRT] The model builder version = 1.6.8\n",
      "Image saved at: output/white_wolf.JPEG\n",
      "resnet predicted label: white wolf, Arctic wolf, Canis lupus tundrarum, Confidence: 0.9529\n"
     ]
    }
   ],
   "source": [
    "# run resnet inference\n",
    "resnet_label, resnet_confidence, image = run_inference_tf(\"resnet\")\n",
    "print(f\"resnet predicted label: {resnet_label}, Confidence: {resnet_confidence:.4f}\")\n",
    "plt.figure(figsize=(10, 10))\n",
    "plt.imshow(image)\n",
    "plt.axis('off')  # Hide the axis\n",
    "plt.show()"
   ]
  }
 ],
 "metadata": {
  "kernelspec": {
   "display_name": "usr",
   "language": "python",
   "name": "python3"
  },
  "language_info": {
   "codemirror_mode": {
    "name": "ipython",
    "version": 3
   },
   "file_extension": ".py",
   "mimetype": "text/x-python",
   "name": "python",
   "nbconvert_exporter": "python",
   "pygments_lexer": "ipython3",
   "version": "3.8.10"
  }
 },
 "nbformat": 4,
 "nbformat_minor": 2
}
